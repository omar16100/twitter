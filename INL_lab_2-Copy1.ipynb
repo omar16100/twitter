{
 "cells": [
  {
   "cell_type": "markdown",
   "metadata": {},
   "source": [
    "### Data fetching"
   ]
  },
  {
   "cell_type": "code",
   "execution_count": 1,
   "metadata": {},
   "outputs": [],
   "source": [
    "import xml.etree.ElementTree as ET\n",
    "train_sources = []\n",
    "with open(\"en/truth-train.txt\", \"r\") as f:\n",
    "    for i in f:\n",
    "        tmp = i.split(\":::\")\n",
    "        tmp[2] = tmp[2][:-1]\n",
    "        train_sources.append(tmp)\n",
    "train_tweets = []\n",
    "for i in train_sources:\n",
    "    tree = ET.parse(\"en/\"+i[0]+\".xml\")\n",
    "    root = tree.getroot()\n",
    "    for child in root:\n",
    "        if child.tag == 'documents':\n",
    "            for tweet in child.findall('document'):\n",
    "                train_tweets.append((tweet.text,i[2]))\n"
   ]
  },
  {
   "cell_type": "code",
   "execution_count": 2,
   "metadata": {},
   "outputs": [],
   "source": [
    "import random"
   ]
  },
  {
   "cell_type": "code",
   "execution_count": 3,
   "metadata": {},
   "outputs": [],
   "source": [
    "random.shuffle(train_tweets)\n",
    "test_tweets = train_tweets[int(len(train_tweets)*0.8):]\n",
    "train_tweets = train_tweets[:int(len(train_tweets)*0.8)]"
   ]
  },
  {
   "cell_type": "markdown",
   "metadata": {},
   "source": [
    "### calculating average word length"
   ]
  },
  {
   "cell_type": "code",
   "execution_count": 4,
   "metadata": {},
   "outputs": [],
   "source": [
    "def avg_length(string, count):\n",
    "    sum_len = 0.\n",
    "    for i in string.split(\" \"):\n",
    "        sum_len += len(i)\n",
    "    return sum_len/count"
   ]
  },
  {
   "cell_type": "markdown",
   "metadata": {},
   "source": [
    "### calculating number of stop words"
   ]
  },
  {
   "cell_type": "code",
   "execution_count": 5,
   "metadata": {},
   "outputs": [
    {
     "name": "stdout",
     "output_type": "stream",
     "text": [
      "[nltk_data] Downloading package stopwords to\n",
      "[nltk_data]     C:\\Users\\Anna\\AppData\\Roaming\\nltk_data...\n",
      "[nltk_data]   Package stopwords is already up-to-date!\n"
     ]
    }
   ],
   "source": [
    "import nltk\n",
    "from nltk.corpus import stopwords\n",
    "nltk.download(\"stopwords\")\n",
    "stop = stopwords.words('english')\n",
    "def stops(tweet):\n",
    "    count = 0.\n",
    "    for i in tweet:\n",
    "        if i in stop:\n",
    "            count += 1\n",
    "    return count"
   ]
  },
  {
   "cell_type": "markdown",
   "metadata": {},
   "source": [
    "### calculating number of special characters"
   ]
  },
  {
   "cell_type": "code",
   "execution_count": 6,
   "metadata": {},
   "outputs": [],
   "source": [
    "def spec(tweet):\n",
    "    tmp = \"\".join(tweet)\n",
    "    count = 0.\n",
    "    for i in tmp:\n",
    "        if i in [\"#\", \"!\", \"@\", \"$\", \"%\", \"^\", \"&\", \"*\", \"(\", \")\", \"-\", \"_\", \"+\", \"[\", \"]\", \":\", \"<\", \">\", \"?\", \"/\", \"\\\\\", \"|\"]:\n",
    "            count+=1\n",
    "    return count"
   ]
  },
  {
   "cell_type": "markdown",
   "metadata": {},
   "source": [
    "### calculating number of special digits"
   ]
  },
  {
   "cell_type": "code",
   "execution_count": 7,
   "metadata": {},
   "outputs": [],
   "source": [
    "def nums(tweet):\n",
    "    tmp = \"\".join(tweet)\n",
    "    count = 0.\n",
    "    for i in tmp:\n",
    "        if i in [\"1\", \"2\",\"3\", \"4\", \"5\", \"6\", \"7\", \"8\", \"9\", \"0\"]:\n",
    "            count+=1\n",
    "    return count"
   ]
  },
  {
   "cell_type": "markdown",
   "metadata": {},
   "source": [
    "### calculating number of upper cased words"
   ]
  },
  {
   "cell_type": "code",
   "execution_count": 8,
   "metadata": {},
   "outputs": [],
   "source": [
    "def upp(tweet):\n",
    "    count = 0.\n",
    "    for i in tweet:\n",
    "        if i.isupper():\n",
    "            count += 1\n",
    "    return count\n"
   ]
  },
  {
   "cell_type": "markdown",
   "metadata": {},
   "source": [
    "### calculating TF's and IDF's for tf-idf"
   ]
  },
  {
   "cell_type": "code",
   "execution_count": 9,
   "metadata": {},
   "outputs": [],
   "source": [
    "import numpy as np\n",
    "def tf(tweet):\n",
    "    tfs = []\n",
    "    tweet_words = [i.lower() for i in tweet]\n",
    "    for i in tweet_words:\n",
    "        tmp = tweet_words.count(i)\n",
    "        tfs.append(tmp/len(tweet_words))\n",
    "    return np.mean(tfs)\n",
    "                \n"
   ]
  },
  {
   "cell_type": "code",
   "execution_count": 10,
   "metadata": {},
   "outputs": [],
   "source": [
    "import numpy as np\n",
    "def idf(tweet):\n",
    "    idfs = []\n",
    "    N = 288000.\n",
    "    tweet_words = [i.lower() for i in tweet]\n",
    "    N = len(tweets)\n",
    "    for i in tweet_words:        \n",
    "        if i in words_dict:\n",
    "            idfs.append(np.log(N/words_dict[i]))\n",
    "        else:\n",
    "            idfs.append(np.log(N/0.0000001))\n",
    "    return np.mean(idfs)"
   ]
  },
  {
   "cell_type": "markdown",
   "metadata": {},
   "source": [
    "### calculating references for other users(very important for bot-human classification)"
   ]
  },
  {
   "cell_type": "code",
   "execution_count": 11,
   "metadata": {},
   "outputs": [],
   "source": [
    "def refs(tweet):\n",
    "    tmp = \"\".join(tweet)\n",
    "    count = 0.\n",
    "    for i in tmp:\n",
    "        if i == \"@\":\n",
    "            count+=1\n",
    "    return count"
   ]
  },
  {
   "cell_type": "markdown",
   "metadata": {},
   "source": [
    "### calculating number of tweets for each word"
   ]
  },
  {
   "cell_type": "code",
   "execution_count": 12,
   "metadata": {
    "scrolled": true
   },
   "outputs": [],
   "source": [
    "words_dict = {}\n",
    "tweets = [i[0] for i in train_tweets]\n",
    "for i in range(0, len(tweets)):\n",
    "    for word in set(tweets[i]):\n",
    "        word = word.lower()\n",
    "        if word in words_dict.keys():\n",
    "            words_dict[word] +=1\n",
    "        else:\n",
    "            words_dict[word] = 1\n",
    "            "
   ]
  },
  {
   "cell_type": "markdown",
   "metadata": {},
   "source": [
    "###  using CountVectorizer to create 100 features vector for each tweet"
   ]
  },
  {
   "cell_type": "code",
   "execution_count": 13,
   "metadata": {},
   "outputs": [],
   "source": [
    "from sklearn.feature_extraction.text import CountVectorizer\n",
    "tweets = [i[0]  for i in train_tweets if i[1]!=\"bot\"]\n",
    "aims = [0 if i[1] ==\"female\" else 1  for i in train_tweets if i[1]!=\"bot\"]\n",
    "cv = CountVectorizer(max_df=0.85,stop_words = stop, max_features = 100 )\n",
    "res = cv.fit_transform(tweets)"
   ]
  },
  {
   "cell_type": "markdown",
   "metadata": {},
   "source": [
    "# Using Bert\n"
   ]
  },
  {
   "cell_type": "code",
   "execution_count": 17,
   "metadata": {},
   "outputs": [],
   "source": [
    "import transformers\n",
    "\n",
    "from transformers import BertModel, BertTokenizer, AdamW, get_linear_schedule_with_warmup\n",
    "\n",
    "import torch\n",
    "\n",
    "import numpy as np\n",
    "\n",
    "import pandas as pd\n",
    "\n",
    "import seaborn as sns\n",
    "\n",
    "from pylab import rcParams\n",
    "\n",
    "import matplotlib.pyplot as plt\n",
    "\n",
    "from matplotlib import rc\n",
    "\n",
    "from sklearn.model_selection import train_test_split\n",
    "\n",
    "from sklearn.metrics import confusion_matrix, classification_report\n",
    "\n",
    "from collections import defaultdict\n",
    "\n",
    "from textwrap import wrap\n",
    "\n",
    "from torch import nn, optim\n",
    "\n",
    "from torch.utils.data import Dataset, DataLoader"
   ]
  },
  {
   "cell_type": "code",
   "execution_count": null,
   "metadata": {},
   "outputs": [],
   "source": [
    "!pip install torch"
   ]
  },
  {
   "cell_type": "code",
   "execution_count": 1,
   "metadata": {},
   "outputs": [
    {
     "ename": "ModuleNotFoundError",
     "evalue": "No module named 'torch'",
     "output_type": "error",
     "traceback": [
      "\u001b[1;31m-------------------------------------------------------------------------\u001b[0m",
      "\u001b[1;31mModuleNotFoundError\u001b[0m                     Traceback (most recent call last)",
      "\u001b[1;32m<ipython-input-1-0955f843e6aa>\u001b[0m in \u001b[0;36m<module>\u001b[1;34m\u001b[0m\n\u001b[1;32m----> 1\u001b[1;33m \u001b[1;32mimport\u001b[0m \u001b[0mtorch\u001b[0m\u001b[1;33m\u001b[0m\u001b[1;33m\u001b[0m\u001b[0m\n\u001b[0m\u001b[0;32m      2\u001b[0m \u001b[1;32mfrom\u001b[0m \u001b[0mtransformers\u001b[0m \u001b[1;32mimport\u001b[0m \u001b[1;33m*\u001b[0m\u001b[1;33m\u001b[0m\u001b[1;33m\u001b[0m\u001b[0m\n",
      "\u001b[1;31mModuleNotFoundError\u001b[0m: No module named 'torch'"
     ]
    }
   ],
   "source": [
    "import torch\n",
    "from transformers import *"
   ]
  },
  {
   "cell_type": "code",
   "execution_count": null,
   "metadata": {},
   "outputs": [],
   "source": [
    "token_lens = []\n",
    "\n",
    "for txt in tweets:\n",
    "    tokens = tokenizer.encode(txt, max_length=512)\n",
    "    token_lens.append(len(tokens))"
   ]
  },
  {
   "cell_type": "code",
   "execution_count": 18,
   "metadata": {},
   "outputs": [],
   "source": [
    "from bert_embedding import BertEmbedding\n",
    "bert_embedding = BertEmbedding(tweets)"
   ]
  },
  {
   "cell_type": "code",
   "execution_count": null,
   "metadata": {},
   "outputs": [],
   "source": [
    "df_train=tweets"
   ]
  },
  {
   "cell_type": "code",
   "execution_count": null,
   "metadata": {},
   "outputs": [],
   "source": [
    "PRE_TRAINED_MODEL_NAME = 'bert-base-cased'"
   ]
  },
  {
   "cell_type": "code",
   "execution_count": null,
   "metadata": {},
   "outputs": [],
   "source": [
    "bert_model = BertModel.from_pretrained(PRE_TRAINED_MODEL_NAME)"
   ]
  },
  {
   "cell_type": "code",
   "execution_count": null,
   "metadata": {},
   "outputs": [],
   "source": [
    "class SentimentClassifier(nn.Module):\n",
    "    def __init__(self, n_classes):\n",
    "        super(SentimentClassifier, self).__init__()\n",
    "\n",
    "        self.bert = BertModel.from_pretrained(PRE_TRAINED_MODEL_NAME)\n",
    "\n",
    "        self.drop = nn.Dropout(p=0.3)\n",
    "\n",
    "        self.out = nn.Linear(self.bert.config.hidden_size, n_classes)\n",
    "\n",
    "    def forward(self, input_ids, attention_mask):\n",
    "        _, pooled_output = self.bert(\n",
    "        input_ids=input_ids,\n",
    "        attention_mask=attention_mask )\n",
    "        output = self.drop(pooled_output)\n",
    "        return self.out(output)"
   ]
  },
  {
   "cell_type": "code",
   "execution_count": null,
   "metadata": {},
   "outputs": [],
   "source": [
    "model = SentimentClassifier(len(class_names))\n",
    "\n",
    "model = model.to(device)"
   ]
  },
  {
   "cell_type": "code",
   "execution_count": null,
   "metadata": {},
   "outputs": [],
   "source": [
    "EPOCHS = 10\n",
    "\n",
    "optimizer = AdamW(model.parameters(), lr=2e-5, correct_bias=False)\n",
    "total_steps = len(train_data_loader) * EPOCHS\n",
    "\n",
    "scheduler = get_linear_schedule_with_warmup(\n",
    "  optimizer,\n",
    "  num_warmup_steps=0,\n",
    "  num_training_steps=total_steps\n",
    ")\n",
    "\n",
    "loss_fn = nn.CrossEntropyLoss().to(device)"
   ]
  },
  {
   "cell_type": "code",
   "execution_count": null,
   "metadata": {},
   "outputs": [],
   "source": [
    "def train_epoch(\n",
    "  model, \n",
    "  data_loader, \n",
    "  loss_fn, \n",
    "  optimizer, \n",
    "  device, \n",
    "  scheduler, \n",
    "  n_examples\n",
    "):\n",
    "    model = model.train()\n",
    "    losses = []\n",
    "    correct_predictions = 0\n",
    "  \n",
    "  for d in data_loader:\n",
    "    input_ids = d[\"input_ids\"].to(device)\n",
    "    attention_mask = d[\"attention_mask\"].to(device)\n",
    "    targets = d[\"targets\"].to(device)\n",
    "\n",
    "    outputs = model(\n",
    "      input_ids=input_ids,\n",
    "      attention_mask=attention_mask\n",
    "    )\n",
    "\n",
    "    _, preds = torch.max(outputs, dim=1)\n",
    "    loss = loss_fn(outputs, targets)\n",
    "\n",
    "    correct_predictions += torch.sum(preds == targets)\n",
    "    losses.append(loss.item())\n",
    "\n",
    "    loss.backward()\n",
    "    nn.utils.clip_grad_norm_(model.parameters(), max_norm=1.0)\n",
    "    optimizer.step()\n",
    "    scheduler.step()\n",
    "    optimizer.zero_grad()\n",
    "    return correct_predictions.double() / n_examples, np.mean(losses)"
   ]
  },
  {
   "cell_type": "code",
   "execution_count": null,
   "metadata": {},
   "outputs": [],
   "source": [
    "\n",
    "history = defaultdict(list)\n",
    "best_accuracy = 0\n",
    "\n",
    "for epoch in range(EPOCHS):\n",
    "    print(f'Epoch {epoch + 1}/{EPOCHS}')\n",
    "    print('-' * 10)\n",
    "    \n",
    "    train_acc, train_loss = train_epoch(\n",
    "    model,\n",
    "    train_data_loader,    \n",
    "    loss_fn, \n",
    "    optimizer, \n",
    "    device, \n",
    "    scheduler, \n",
    "    len(df_train)\n",
    "  )\n",
    "\n",
    "    print(f'Train loss {train_loss} accuracy {train_acc}')\n",
    "\n",
    "    val_acc, val_loss = eval_model(\n",
    "    model,\n",
    "    val_data_loader,\n",
    "    loss_fn, \n",
    "    device, \n",
    "    len(df_val)\n",
    "  )\n",
    "\n",
    "    print(f'Val   loss {val_loss} accuracy {val_acc}')\n",
    "    print()\n",
    "\n",
    "    history['train_acc'].append(train_acc)\n",
    "    history['train_loss'].append(train_loss)\n",
    "    if val_acc > best_accuracy:\n",
    "    torch.save(model.state_dict(), 'best_model_state.bin')\n",
    "    best_accuracy = val_acc"
   ]
  },
  {
   "cell_type": "code",
   "execution_count": null,
   "metadata": {},
   "outputs": [],
   "source": [
    "test_acc, _ = eval_model(\n",
    "  model,\n",
    "  test_data_loader,\n",
    "  loss_fn,\n",
    "  device,\n",
    "  len(df_test)\n",
    ")\n",
    "\n",
    "test_acc.item()"
   ]
  },
  {
   "cell_type": "markdown",
   "metadata": {},
   "source": [
    "### preparing data to NN's  \n",
    "### the best results got with such feature list:\n",
    "#### bot-human: number of words; average word length, number of stop words, number of special characters, number of references and tf-idf (6 features)\n",
    "#### male-female: number of characters; average word length, number of stop words, number of special characters(5 features) tf-idf doesn't improve accuracy, so it was ommited"
   ]
  },
  {
   "cell_type": "code",
   "execution_count": null,
   "metadata": {},
   "outputs": [],
   "source": [
    "import random\n",
    "#bot 0 - human 1\n",
    "train_features1 = []\n",
    "train_aims1 = []\n",
    "#female 0 - male 1\n",
    "train_features2 = []\n",
    "train_aims2 = []\n",
    "for i in train_tweets:\n",
    "    num_of_words = 0. +len(i[0].split(\" \"))\n",
    "    num_of_characters = 0. + len(i[0])\n",
    "    avg_word_length = avg_length(i[0], num_of_words)\n",
    "    stop_words = stops(i[0])\n",
    "    special_characters =spec(i[0])\n",
    "    refers = refs(i[0])\n",
    "    #numerics = nums(i[0])\n",
    "    #uppers = upp(i[0])\n",
    "    \n",
    "    tfs = tf(i[0])\n",
    "    idfs = idf(i[0])\n",
    "    class_id1 = 0\n",
    "    class_id2 = 0\n",
    "    if i[1] == 'bot':\n",
    "        class_id1 = 0\n",
    "    if i[1] == 'female':\n",
    "        class_id1 = 1\n",
    "        class_id2 = 0\n",
    "    if i[1] == 'male':\n",
    "        class_id1 = 1\n",
    "        class_id2 = 1\n",
    "    train_features1.append([num_of_words,avg_word_length,stop_words,special_characters, refers, tfs*idfs])\n",
    "    train_aims1.append(class_id1)\n",
    "    if i[1] != 'bot':\n",
    "        train_features2.append([num_of_characters,avg_word_length,stop_words,special_characters])\n",
    "        train_aims2.append(class_id2)\n",
    "    print(len(train_features1))\n"
   ]
  },
  {
   "cell_type": "markdown",
   "metadata": {},
   "source": [
    "### normalization for 3 prepared data sets:\n",
    "#### norm res - 100 features using CountVectorizer for male-female \n",
    "#### normalized_features1- bot-human\n",
    "#### normalized_features2- male-female"
   ]
  },
  {
   "cell_type": "code",
   "execution_count": 17,
   "metadata": {},
   "outputs": [],
   "source": [
    "#normalization\n",
    "from sklearn import preprocessing\n",
    "norm_res =preprocessing.normalize(res,norm='l2',axis=1,copy=True)\n",
    "normalized_features1 =preprocessing.normalize(train_features1,norm='l2',axis=1,copy=True)\n",
    "normalized_features2 =preprocessing.normalize(train_features2,norm='l2',axis=1,copy=True)"
   ]
  },
  {
   "cell_type": "markdown",
   "metadata": {},
   "source": [
    "## Data visualization"
   ]
  },
  {
   "cell_type": "code",
   "execution_count": 18,
   "metadata": {},
   "outputs": [],
   "source": [
    "import matplotlib.pyplot as plt\n",
    "import matplotlib\n",
    "from sklearn.decomposition import PCA as sklearnPCA\n",
    "from sklearn.discriminant_analysis import LinearDiscriminantAnalysis as LDA\n",
    "from sklearn.datasets.samples_generator import make_blobs\n",
    "\n"
   ]
  },
  {
   "cell_type": "markdown",
   "metadata": {},
   "source": [
    "### using PCA(SVD) for dimentions reduction to show our data on graphics \n",
    "#### we can choose whether show normalized data or not\n",
    "##### for bot-human"
   ]
  },
  {
   "cell_type": "code",
   "execution_count": 19,
   "metadata": {},
   "outputs": [],
   "source": [
    "pca = sklearnPCA(n_components=2) #2-dimensional PCA\n",
    "from sklearn.decomposition import TruncatedSVD\n",
    "svd = TruncatedSVD(2)"
   ]
  },
  {
   "cell_type": "code",
   "execution_count": 20,
   "metadata": {},
   "outputs": [],
   "source": [
    "transformed = svd.fit_transform(normalized_features1)"
   ]
  },
  {
   "cell_type": "code",
   "execution_count": 21,
   "metadata": {},
   "outputs": [],
   "source": [
    "transformed = svd.fit_transform(train_features1)"
   ]
  },
  {
   "cell_type": "code",
   "execution_count": 22,
   "metadata": {},
   "outputs": [],
   "source": [
    "bot_X = []\n",
    "bot_Y = []\n",
    "human_X = []\n",
    "human_Y = []\n",
    "for i in range (0,len(transformed)):\n",
    "    if train_aims1[i] == 0:\n",
    "        bot_X.append(transformed[i][0])\n",
    "        bot_Y.append(transformed[i][1])\n",
    "    else:\n",
    "        human_X.append(transformed[i][0])\n",
    "        human_Y.append(transformed[i][1])"
   ]
  },
  {
   "cell_type": "code",
   "execution_count": 23,
   "metadata": {},
   "outputs": [
    {
     "data": {
      "image/png": "[encoded data removed]",
      "text/plain": [
       "<Figure size 432x288 with 1 Axes>"
      ]
     },
     "metadata": {
      "needs_background": "light"
     },
     "output_type": "display_data"
    }
   ],
   "source": [
    "\n",
    "plt.scatter(bot_X, bot_Y, label='bot', c='red',marker = ',',s=1)\n",
    "plt.scatter(human_X, human_Y, label='human', c='blue', marker = ',',s=1)\n",
    "matplotlib.pyplot.autoscale(enable=True, axis='both', tight=None)\n",
    "plt.legend()\n",
    "plt.show()\n"
   ]
  },
  {
   "cell_type": "markdown",
   "metadata": {},
   "source": [
    "##### the same for male-female data"
   ]
  },
  {
   "cell_type": "code",
   "execution_count": 24,
   "metadata": {},
   "outputs": [],
   "source": [
    "transformed2 = pca.fit_transform(normalized_features2)"
   ]
  },
  {
   "cell_type": "code",
   "execution_count": 25,
   "metadata": {},
   "outputs": [],
   "source": [
    "transformed2 = svd.fit_transform(train_features2)"
   ]
  },
  {
   "cell_type": "code",
   "execution_count": 26,
   "metadata": {},
   "outputs": [],
   "source": [
    "female_X = []\n",
    "female_Y = []\n",
    "male_X = []\n",
    "male_Y = []\n",
    "for i in range (0,len(transformed2)):\n",
    "    if train_aims2[i] == 0:\n",
    "        female_X.append(transformed2[i][0])\n",
    "        female_Y.append(transformed2[i][1])\n",
    "    else:\n",
    "        male_X.append(transformed2[i][0])\n",
    "        male_Y.append(transformed2[i][1])"
   ]
  },
  {
   "cell_type": "code",
   "execution_count": 27,
   "metadata": {},
   "outputs": [
    {
     "data": {
      "image/png": "[encoded data removed]",
      "text/plain": [
       "<Figure size 432x288 with 1 Axes>"
      ]
     },
     "metadata": {
      "needs_background": "light"
     },
     "output_type": "display_data"
    }
   ],
   "source": [
    "plt.scatter(female_X, female_Y, label='female', c='red',marker = ',',s=1)\n",
    "plt.scatter(male_X, male_Y, label='male', c='blue', marker = ',',s=1)\n",
    "matplotlib.pyplot.autoscale(enable=True, axis='both', tight=None)\n",
    "plt.legend()\n",
    "plt.show()"
   ]
  },
  {
   "cell_type": "markdown",
   "metadata": {},
   "source": [
    "### for male-female with 100 features"
   ]
  },
  {
   "cell_type": "code",
   "execution_count": 28,
   "metadata": {},
   "outputs": [],
   "source": [
    "transformed3 = svd.fit_transform(res)"
   ]
  },
  {
   "cell_type": "code",
   "execution_count": 29,
   "metadata": {},
   "outputs": [],
   "source": [
    "transformed3 = svd.fit_transform(norm_res)\n"
   ]
  },
  {
   "cell_type": "code",
   "execution_count": 30,
   "metadata": {},
   "outputs": [
    {
     "data": {
      "image/png": "[encoded data removed]",
      "text/plain": [
       "<Figure size 432x288 with 1 Axes>"
      ]
     },
     "metadata": {
      "needs_background": "light"
     },
     "output_type": "display_data"
    }
   ],
   "source": [
    "female_X = []\n",
    "female_Y = []\n",
    "male_X = []\n",
    "male_Y = []\n",
    "for i in range (0,len(transformed3)):\n",
    "    if aims[i] == 0:\n",
    "        female_X.append(transformed3[i][0])\n",
    "        female_Y.append(transformed3[i][1])\n",
    "    else:\n",
    "        male_X.append(transformed3[i][0])\n",
    "        male_Y.append(transformed3[i][1])\n",
    "plt.scatter(female_X, female_Y, label='female', c='red',marker = ',',s=1)\n",
    "plt.scatter(male_X, male_Y, label='male', c='blue', marker = ',',s=1)\n",
    "matplotlib.pyplot.autoscale(enable=True, axis='both', tight=None)\n",
    "plt.legend()\n",
    "plt.show()"
   ]
  },
  {
   "cell_type": "markdown",
   "metadata": {},
   "source": [
    "### preparing target arrays for NN to receive n(number of records)x2(number of our classes) shape"
   ]
  },
  {
   "cell_type": "code",
   "execution_count": 33,
   "metadata": {
    "scrolled": true
   },
   "outputs": [
    {
     "name": "stdout",
     "output_type": "stream",
     "text": [
      "Collecting tensorflow\n",
      "  Downloading tensorflow-2.2.0-cp37-cp37m-win_amd64.whl (459.2 MB)\n",
      "Collecting tensorflow-estimator<2.3.0,>=2.2.0\n",
      "  Downloading tensorflow_estimator-2.2.0-py2.py3-none-any.whl (454 kB)\n",
      "Collecting keras-preprocessing>=1.1.0\n",
      "  Downloading Keras_Preprocessing-1.1.2-py2.py3-none-any.whl (42 kB)\n",
      "Collecting grpcio>=1.8.6\n",
      "  Downloading grpcio-1.30.0-cp37-cp37m-win_amd64.whl (2.3 MB)\n",
      "Collecting opt-einsum>=2.3.2\n",
      "  Downloading opt_einsum-3.2.1-py3-none-any.whl (63 kB)\n",
      "Requirement already satisfied: numpy<2.0,>=1.16.0 in c:\\users\\anna\\anaconda3\\lib\\site-packages (from tensorflow) (1.18.1)\n",
      "Requirement already satisfied: wrapt>=1.11.1 in c:\\users\\anna\\anaconda3\\lib\\site-packages (from tensorflow) (1.11.2)\n",
      "Collecting tensorboard<2.3.0,>=2.2.0\n",
      "  Downloading tensorboard-2.2.2-py3-none-any.whl (3.0 MB)\n",
      "Collecting h5py<2.11.0,>=2.10.0\n",
      "  Downloading h5py-2.10.0-cp37-cp37m-win_amd64.whl (2.5 MB)\n",
      "Collecting astunparse==1.6.3\n",
      "  Downloading astunparse-1.6.3-py2.py3-none-any.whl (12 kB)\n",
      "Collecting google-pasta>=0.1.8\n",
      "  Downloading google_pasta-0.2.0-py3-none-any.whl (57 kB)\n",
      "Requirement already satisfied: six>=1.12.0 in c:\\users\\anna\\anaconda3\\lib\\site-packages (from tensorflow) (1.14.0)\n",
      "Requirement already satisfied: scipy==1.4.1; python_version >= \"3\" in c:\\users\\anna\\anaconda3\\lib\\site-packages (from tensorflow) (1.4.1)\n",
      "Collecting gast==0.3.3\n",
      "  Downloading gast-0.3.3-py2.py3-none-any.whl (9.7 kB)\n",
      "Processing c:\\users\\anna\\appdata\\local\\pip\\cache\\wheels\\7c\\06\\54\\bc84598ba1daf8f970247f550b175aaaee85f68b4b0c5ab2c6\\termcolor-1.1.0-cp37-none-any.whl\n",
      "Collecting protobuf>=3.8.0\n",
      "  Downloading protobuf-3.12.2-cp37-cp37m-win_amd64.whl (1.0 MB)\n",
      "Collecting absl-py>=0.7.0\n",
      "  Downloading absl-py-0.9.0.tar.gz (104 kB)\n",
      "Requirement already satisfied: wheel>=0.26; python_version >= \"3\" in c:\\users\\anna\\anaconda3\\lib\\site-packages (from tensorflow) (0.34.2)\n",
      "Collecting tensorboard-plugin-wit>=1.6.0\n",
      "  Downloading tensorboard_plugin_wit-1.6.0.post3-py3-none-any.whl (777 kB)\n",
      "Collecting google-auth-oauthlib<0.5,>=0.4.1\n",
      "  Downloading google_auth_oauthlib-0.4.1-py2.py3-none-any.whl (18 kB)\n",
      "Requirement already satisfied: werkzeug>=0.11.15 in c:\\users\\anna\\anaconda3\\lib\\site-packages (from tensorboard<2.3.0,>=2.2.0->tensorflow) (1.0.0)\n",
      "Collecting markdown>=2.6.8\n",
      "  Downloading Markdown-3.2.2-py3-none-any.whl (88 kB)\n",
      "Requirement already satisfied: setuptools>=41.0.0 in c:\\users\\anna\\anaconda3\\lib\\site-packages (from tensorboard<2.3.0,>=2.2.0->tensorflow) (45.2.0.post20200210)\n",
      "Requirement already satisfied: requests<3,>=2.21.0 in c:\\users\\anna\\anaconda3\\lib\\site-packages (from tensorboard<2.3.0,>=2.2.0->tensorflow) (2.22.0)\n",
      "Collecting google-auth<2,>=1.6.3\n",
      "  Downloading google_auth-1.18.0-py2.py3-none-any.whl (90 kB)\n",
      "Collecting requests-oauthlib>=0.7.0\n",
      "  Downloading requests_oauthlib-1.3.0-py2.py3-none-any.whl (23 kB)\n",
      "Requirement already satisfied: importlib-metadata; python_version < \"3.8\" in c:\\users\\anna\\anaconda3\\lib\\site-packages (from markdown>=2.6.8->tensorboard<2.3.0,>=2.2.0->tensorflow) (1.5.0)\n",
      "Requirement already satisfied: certifi>=2017.4.17 in c:\\users\\anna\\anaconda3\\lib\\site-packages (from requests<3,>=2.21.0->tensorboard<2.3.0,>=2.2.0->tensorflow) (2019.11.28)\n",
      "Requirement already satisfied: urllib3!=1.25.0,!=1.25.1,<1.26,>=1.21.1 in c:\\users\\anna\\anaconda3\\lib\\site-packages (from requests<3,>=2.21.0->tensorboard<2.3.0,>=2.2.0->tensorflow) (1.25.8)\n",
      "Requirement already satisfied: idna<2.9,>=2.5 in c:\\users\\anna\\anaconda3\\lib\\site-packages (from requests<3,>=2.21.0->tensorboard<2.3.0,>=2.2.0->tensorflow) (2.8)\n",
      "Requirement already satisfied: chardet<3.1.0,>=3.0.2 in c:\\users\\anna\\anaconda3\\lib\\site-packages (from requests<3,>=2.21.0->tensorboard<2.3.0,>=2.2.0->tensorflow) (3.0.4)\n",
      "Collecting pyasn1-modules>=0.2.1\n",
      "  Downloading pyasn1_modules-0.2.8-py2.py3-none-any.whl (155 kB)\n",
      "Collecting rsa<5,>=3.1.4; python_version >= \"3\"\n",
      "  Downloading rsa-4.6-py3-none-any.whl (47 kB)\n",
      "Collecting cachetools<5.0,>=2.0.0\n",
      "  Downloading cachetools-4.1.0-py3-none-any.whl (10 kB)\n",
      "Collecting oauthlib>=3.0.0\n",
      "  Downloading oauthlib-3.1.0-py2.py3-none-any.whl (147 kB)\n",
      "Requirement already satisfied: zipp>=0.5 in c:\\users\\anna\\anaconda3\\lib\\site-packages (from importlib-metadata; python_version < \"3.8\"->markdown>=2.6.8->tensorboard<2.3.0,>=2.2.0->tensorflow) (2.2.0)\n",
      "Collecting pyasn1<0.5.0,>=0.4.6\n",
      "  Using cached pyasn1-0.4.8-py2.py3-none-any.whl (77 kB)\n",
      "Building wheels for collected packages: absl-py\n",
      "  Building wheel for absl-py (setup.py): started\n",
      "  Building wheel for absl-py (setup.py): finished with status 'done'\n",
      "  Created wheel for absl-py: filename=absl_py-0.9.0-py3-none-any.whl size=121935 sha256=b62cbf32a6ae515fc758d370dfaf29ffb609dc5ab00ae6df34e91111c2b58466\n",
      "  Stored in directory: c:\\users\\anna\\appdata\\local\\pip\\cache\\wheels\\cc\\af\\1a\\498a24d0730ef484019e007bb9e8cef3ac00311a672c049a3e\n",
      "Successfully built absl-py\n",
      "Installing collected packages: tensorflow-estimator, keras-preprocessing, grpcio, opt-einsum, tensorboard-plugin-wit, protobuf, pyasn1, pyasn1-modules, rsa, cachetools, google-auth, oauthlib, requests-oauthlib, google-auth-oauthlib, markdown, absl-py, tensorboard, h5py, astunparse, google-pasta, gast, termcolor, tensorflow\n",
      "  Attempting uninstall: h5py\n",
      "    Found existing installation: h5py 2.9.0\n",
      "    Uninstalling h5py-2.9.0:\n",
      "      Successfully uninstalled h5py-2.9.0\n"
     ]
    },
    {
     "name": "stderr",
     "output_type": "stream",
     "text": [
      "ERROR: keras 2.2.4 requires keras-applications>=1.0.6, which is not installed.\n",
      "ERROR: tensorflow-probability 0.8.0 has requirement gast<0.3,>=0.2, but you'll have gast 0.3.3 which is incompatible.\n",
      "ERROR: deeppavlov 0.6.0 has requirement h5py==2.9.0, but you'll have h5py 2.10.0 which is incompatible.\n",
      "ERROR: deeppavlov 0.6.0 has requirement numpy==1.16.4, but you'll have numpy 1.18.1 which is incompatible.\n",
      "ERROR: deeppavlov 0.6.0 has requirement pyopenssl==19.0.0, but you'll have pyopenssl 19.1.0 which is incompatible.\n",
      "ERROR: deeppavlov 0.6.0 has requirement scipy==1.3.0, but you'll have scipy 1.4.1 which is incompatible.\n",
      "ERROR: Could not install packages due to an EnvironmentError: [WinError 5] Access is denied: 'c:\\\\users\\\\anna\\\\appdata\\\\roaming\\\\python\\\\python37\\\\site-packages\\\\~5py\\\\defs.cp37-win_amd64.pyd'\n",
      "Consider using the `--user` option or check the permissions.\n",
      "\n"
     ]
    }
   ],
   "source": [
    "!pip install tensorflow"
   ]
  },
  {
   "cell_type": "code",
   "execution_count": 35,
   "metadata": {},
   "outputs": [
    {
     "name": "stderr",
     "output_type": "stream",
     "text": [
      "Using TensorFlow backend.\n",
      "C:\\Users\\Anna\\anaconda3\\lib\\site-packages\\tensorflow\\python\\framework\\dtypes.py:516: FutureWarning: Passing (type, 1) or '1type' as a synonym of type is deprecated; in a future version of numpy, it will be understood as (type, (1,)) / '(1,)type'.\n",
      "  _np_qint8 = np.dtype([(\"qint8\", np.int8, 1)])\n",
      "C:\\Users\\Anna\\anaconda3\\lib\\site-packages\\tensorflow\\python\\framework\\dtypes.py:517: FutureWarning: Passing (type, 1) or '1type' as a synonym of type is deprecated; in a future version of numpy, it will be understood as (type, (1,)) / '(1,)type'.\n",
      "  _np_quint8 = np.dtype([(\"quint8\", np.uint8, 1)])\n",
      "C:\\Users\\Anna\\anaconda3\\lib\\site-packages\\tensorflow\\python\\framework\\dtypes.py:518: FutureWarning: Passing (type, 1) or '1type' as a synonym of type is deprecated; in a future version of numpy, it will be understood as (type, (1,)) / '(1,)type'.\n",
      "  _np_qint16 = np.dtype([(\"qint16\", np.int16, 1)])\n",
      "C:\\Users\\Anna\\anaconda3\\lib\\site-packages\\tensorflow\\python\\framework\\dtypes.py:519: FutureWarning: Passing (type, 1) or '1type' as a synonym of type is deprecated; in a future version of numpy, it will be understood as (type, (1,)) / '(1,)type'.\n",
      "  _np_quint16 = np.dtype([(\"quint16\", np.uint16, 1)])\n",
      "C:\\Users\\Anna\\anaconda3\\lib\\site-packages\\tensorflow\\python\\framework\\dtypes.py:520: FutureWarning: Passing (type, 1) or '1type' as a synonym of type is deprecated; in a future version of numpy, it will be understood as (type, (1,)) / '(1,)type'.\n",
      "  _np_qint32 = np.dtype([(\"qint32\", np.int32, 1)])\n",
      "C:\\Users\\Anna\\anaconda3\\lib\\site-packages\\tensorflow\\python\\framework\\dtypes.py:525: FutureWarning: Passing (type, 1) or '1type' as a synonym of type is deprecated; in a future version of numpy, it will be understood as (type, (1,)) / '(1,)type'.\n",
      "  np_resource = np.dtype([(\"resource\", np.ubyte, 1)])\n",
      "C:\\Users\\Anna\\anaconda3\\lib\\site-packages\\tensorboard\\compat\\tensorflow_stub\\dtypes.py:541: FutureWarning: Passing (type, 1) or '1type' as a synonym of type is deprecated; in a future version of numpy, it will be understood as (type, (1,)) / '(1,)type'.\n",
      "  _np_qint8 = np.dtype([(\"qint8\", np.int8, 1)])\n",
      "C:\\Users\\Anna\\anaconda3\\lib\\site-packages\\tensorboard\\compat\\tensorflow_stub\\dtypes.py:542: FutureWarning: Passing (type, 1) or '1type' as a synonym of type is deprecated; in a future version of numpy, it will be understood as (type, (1,)) / '(1,)type'.\n",
      "  _np_quint8 = np.dtype([(\"quint8\", np.uint8, 1)])\n",
      "C:\\Users\\Anna\\anaconda3\\lib\\site-packages\\tensorboard\\compat\\tensorflow_stub\\dtypes.py:543: FutureWarning: Passing (type, 1) or '1type' as a synonym of type is deprecated; in a future version of numpy, it will be understood as (type, (1,)) / '(1,)type'.\n",
      "  _np_qint16 = np.dtype([(\"qint16\", np.int16, 1)])\n",
      "C:\\Users\\Anna\\anaconda3\\lib\\site-packages\\tensorboard\\compat\\tensorflow_stub\\dtypes.py:544: FutureWarning: Passing (type, 1) or '1type' as a synonym of type is deprecated; in a future version of numpy, it will be understood as (type, (1,)) / '(1,)type'.\n",
      "  _np_quint16 = np.dtype([(\"quint16\", np.uint16, 1)])\n",
      "C:\\Users\\Anna\\anaconda3\\lib\\site-packages\\tensorboard\\compat\\tensorflow_stub\\dtypes.py:545: FutureWarning: Passing (type, 1) or '1type' as a synonym of type is deprecated; in a future version of numpy, it will be understood as (type, (1,)) / '(1,)type'.\n",
      "  _np_qint32 = np.dtype([(\"qint32\", np.int32, 1)])\n",
      "C:\\Users\\Anna\\anaconda3\\lib\\site-packages\\tensorboard\\compat\\tensorflow_stub\\dtypes.py:550: FutureWarning: Passing (type, 1) or '1type' as a synonym of type is deprecated; in a future version of numpy, it will be understood as (type, (1,)) / '(1,)type'.\n",
      "  np_resource = np.dtype([(\"resource\", np.ubyte, 1)])\n"
     ]
    }
   ],
   "source": [
    "import numpy as np\n",
    "from keras.utils import to_categorical\n",
    "\n",
    "train_aims1 = np.asarray(train_aims1)\n",
    "train_aims1.reshape(-1,1)\n",
    "train_labels1 = to_categorical(train_aims1)\n",
    "\n",
    "train_aims2 = np.asarray(train_aims2)\n",
    "train_aims2.reshape(-1,1)\n",
    "\n",
    "train_labels2 = to_categorical(train_aims2)\n",
    "\n",
    "aims = to_categorical(aims)\n"
   ]
  },
  {
   "cell_type": "markdown",
   "metadata": {},
   "source": [
    "### 3 models are prepared:\n",
    "#### 1: bot-human used sequential\n",
    "#### 2: male-female used sequential\n",
    "#### 3: male-female used reccurrent\n",
    "#### 4: male-female used sequential"
   ]
  },
  {
   "cell_type": "code",
   "execution_count": 36,
   "metadata": {},
   "outputs": [
    {
     "name": "stdout",
     "output_type": "stream",
     "text": [
      "WARNING:tensorflow:From C:\\Users\\Anna\\AppData\\Roaming\\Python\\Python37\\site-packages\\keras\\backend\\tensorflow_backend.py:74: The name tf.get_default_graph is deprecated. Please use tf.compat.v1.get_default_graph instead.\n",
      "\n",
      "WARNING:tensorflow:From C:\\Users\\Anna\\AppData\\Roaming\\Python\\Python37\\site-packages\\keras\\backend\\tensorflow_backend.py:517: The name tf.placeholder is deprecated. Please use tf.compat.v1.placeholder instead.\n",
      "\n",
      "WARNING:tensorflow:From C:\\Users\\Anna\\AppData\\Roaming\\Python\\Python37\\site-packages\\keras\\backend\\tensorflow_backend.py:4138: The name tf.random_uniform is deprecated. Please use tf.random.uniform instead.\n",
      "\n",
      "WARNING:tensorflow:From C:\\Users\\Anna\\AppData\\Roaming\\Python\\Python37\\site-packages\\keras\\optimizers.py:790: The name tf.train.Optimizer is deprecated. Please use tf.compat.v1.train.Optimizer instead.\n",
      "\n",
      "WARNING:tensorflow:From C:\\Users\\Anna\\AppData\\Roaming\\Python\\Python37\\site-packages\\keras\\backend\\tensorflow_backend.py:3295: The name tf.log is deprecated. Please use tf.math.log instead.\n",
      "\n",
      "WARNING:tensorflow:From C:\\Users\\Anna\\AppData\\Roaming\\Python\\Python37\\site-packages\\keras\\backend\\tensorflow_backend.py:133: The name tf.placeholder_with_default is deprecated. Please use tf.compat.v1.placeholder_with_default instead.\n",
      "\n",
      "WARNING:tensorflow:From C:\\Users\\Anna\\AppData\\Roaming\\Python\\Python37\\site-packages\\keras\\backend\\tensorflow_backend.py:3445: calling dropout (from tensorflow.python.ops.nn_ops) with keep_prob is deprecated and will be removed in a future version.\n",
      "Instructions for updating:\n",
      "Please use `rate` instead of `keep_prob`. Rate should be set to `rate = 1 - keep_prob`.\n"
     ]
    }
   ],
   "source": [
    "import keras\n",
    "from keras.models import Sequential\n",
    "from keras.layers import Dense\n",
    "from keras.layers import LSTM\n",
    "from keras.layers import Dropout\n",
    "from keras.utils import to_categorical \n",
    "\n",
    "\n",
    "\n",
    "\n",
    "\n",
    "model1 = Sequential()\n",
    "model1.add(Dense(6, activation='relu', input_dim=6))\n",
    "model1.add(Dense(5, activation='relu'))\n",
    "model1.add(Dense(3, activation='relu'))\n",
    "model1.add(Dense(2, activation='softmax'))\n",
    "\n",
    "model1.compile(optimizer='adam', \n",
    "              loss='categorical_crossentropy', \n",
    "              metrics=['accuracy'])\n",
    "\n",
    "model2 = Sequential()\n",
    "model2.add(Dense(4, activation='relu', input_dim=4))\n",
    "model2.add(Dense(3, activation='relu'))\n",
    "model2.add(Dense(2, activation='softmax'))\n",
    "\n",
    "model2.compile(optimizer='adam', \n",
    "              loss='categorical_crossentropy', \n",
    "              metrics=['accuracy'])\n",
    "\n",
    "model3 = Sequential()\n",
    "model3.add(LSTM(100,input_shape=(1, 100), activation='relu', return_sequences=True))\n",
    "model3.add(Dropout(0.2))\n",
    "model3.add(LSTM(100, activation='relu'))\n",
    "model3.add(Dropout(0.2))\n",
    "model3.add(Dense(2, activation='softmax'))\n",
    "model3.compile(optimizer='adam', \n",
    "              loss='categorical_crossentropy', \n",
    "              metrics=['accuracy'])\n",
    "\n",
    "\n",
    "model4 = Sequential()\n",
    "model4.add(Dense(100, activation='relu', input_dim=100))\n",
    "model4.add(Dense(1000, activation='relu'))\n",
    "model4.add(Dense(1000, activation='relu'))\n",
    "model4.add(Dense(100, activation='relu'))\n",
    "model4.add(Dense(2, activation='softmax'))\n",
    "\n",
    "model4.compile(optimizer='adam', \n",
    "              loss='categorical_crossentropy', \n",
    "              metrics=['accuracy'])\n"
   ]
  },
  {
   "cell_type": "markdown",
   "metadata": {},
   "source": [
    "### using pickle, prepared data was saved to show working NN faster"
   ]
  },
  {
   "cell_type": "code",
   "execution_count": 37,
   "metadata": {},
   "outputs": [],
   "source": [
    "import pickle\n",
    "#pickle.dump( normalized_features1, open( \"normalized_features1.p\", \"wb\" ) )\n",
    "#pickle.dump( train_labels1, open( \"train_labels1.p\", \"wb\" ) )\n",
    "#normalized_features1 = pickle.load( open( \"normalized_features1.p\", \"rb\" ) )\n",
    "#train_labels1 = pickle.load( open( \"train_labels1.p\", \"rb\" ) )\n",
    "#pickle.dump( normalized_features2, open( \"normalized_features2.p\", \"wb\" ) )\n",
    "#pickle.dump( train_labels2, open( \"train_labels2.p\", \"wb\" ) )\n",
    "#normalized_features2 = pickle.load( open( \"normalized_features2.p\", \"rb\" ) )\n",
    "#train_labels2 = pickle.load( open( \"train_labels2.p\", \"rb\" ) )\n",
    "#pickle.dump( norm_res, open( \"norm_res.p\", \"wb\" ) )\n",
    "#pickle.dump( aims, open( \"aims.p\", \"wb\" ) )\n",
    "#norm_res = pickle.load( open( \"norm_res.p\", \"rb\" ) )\n",
    "#aims = pickle.load( open( \"aims.p\", \"rb\" ) )"
   ]
  },
  {
   "cell_type": "code",
   "execution_count": 38,
   "metadata": {
    "scrolled": true
   },
   "outputs": [
    {
     "name": "stdout",
     "output_type": "stream",
     "text": [
      "WARNING:tensorflow:From C:\\Users\\Anna\\anaconda3\\lib\\site-packages\\tensorflow\\python\\ops\\math_grad.py:1250: add_dispatch_support.<locals>.wrapper (from tensorflow.python.ops.array_ops) is deprecated and will be removed in a future version.\n",
      "Instructions for updating:\n",
      "Use tf.where in 2.0, which has the same broadcast rule as np.where\n",
      "Epoch 1/3\n",
      "230400/230400 [==============================] - 35s 151us/step - loss: 0.5031 - acc: 0.7785\n",
      "Epoch 2/3\n",
      "230400/230400 [==============================] - 38s 165us/step - loss: 0.4631 - acc: 0.8045\n",
      "Epoch 3/3\n",
      "230400/230400 [==============================] - 31s 135us/step - loss: 0.4611 - acc: 0.8043\n"
     ]
    }
   ],
   "source": [
    "try:\n",
    "    model1.fit(normalized_features1, train_labels1, epochs=3)\n",
    "except KeyboardInterrupt:\n",
    "    pass"
   ]
  },
  {
   "cell_type": "code",
   "execution_count": 39,
   "metadata": {
    "scrolled": true
   },
   "outputs": [
    {
     "name": "stdout",
     "output_type": "stream",
     "text": [
      "Epoch 1/3\n",
      "115345/115345 [==============================] - 18s 153us/step - loss: 0.6921 - acc: 0.5224\n",
      "Epoch 2/3\n",
      "115345/115345 [==============================] - 14s 122us/step - loss: 0.6883 - acc: 0.5495\n",
      "Epoch 3/3\n",
      "115345/115345 [==============================] - 14s 120us/step - loss: 0.6860 - acc: 0.5543\n"
     ]
    }
   ],
   "source": [
    "try:\n",
    "    model2.fit(normalized_features2, train_labels2, epochs=3)\n",
    "except KeyboardInterrupt:\n",
    "    pass"
   ]
  },
  {
   "cell_type": "markdown",
   "metadata": {},
   "source": [
    "### the results of model3 and model4 should be similar, because actually we don't have any time series using such dataset\n",
    "### It can be possibly improved by using n-gramms. using series of n-grams as time series and using features from n-grams such as emmision probabilities, transition probabilities etc."
   ]
  },
  {
   "cell_type": "code",
   "execution_count": 40,
   "metadata": {},
   "outputs": [],
   "source": [
    "reshaped_norm_res = norm_res.toarray()\n",
    "reshaped_norm_res = reshaped_norm_res.reshape(len(reshaped_norm_res),1, 100)"
   ]
  },
  {
   "cell_type": "code",
   "execution_count": 41,
   "metadata": {
    "scrolled": true
   },
   "outputs": [
    {
     "name": "stdout",
     "output_type": "stream",
     "text": [
      "Epoch 1/3\n",
      "115345/115345 [==============================] - 125s 1ms/step - loss: 0.6627 - acc: 0.6006 0s - loss: 0.6628 - acc: \n",
      "Epoch 2/3\n",
      "115345/115345 [==============================] - 82s 708us/step - loss: 0.6554 - acc: 0.60791s - lo\n",
      "Epoch 3/3\n",
      "115345/115345 [==============================] - 96s 832us/step - loss: 0.6530 - acc: 0.6103\n"
     ]
    }
   ],
   "source": [
    "try:\n",
    "    model3.fit(reshaped_norm_res, aims, epochs=3)\n",
    "except KeyboardInterrupt:\n",
    "    pass"
   ]
  },
  {
   "cell_type": "code",
   "execution_count": 42,
   "metadata": {
    "scrolled": true
   },
   "outputs": [
    {
     "name": "stdout",
     "output_type": "stream",
     "text": [
      "Epoch 1/3\n",
      "115345/115345 [==============================] - 550s 5ms/step - loss: 0.6616 - acc: 0.6025\n",
      "Epoch 2/3\n",
      "115345/115345 [==============================] - 342s 3ms/step - loss: 0.6530 - acc: 0.6098\n",
      "Epoch 3/3\n",
      "115345/115345 [==============================] - 305s 3ms/step - loss: 0.6489 - acc: 0.6123\n"
     ]
    }
   ],
   "source": [
    "try:\n",
    "    model4.fit(norm_res, aims, epochs=3)\n",
    "except KeyboardInterrupt:\n",
    "    pass"
   ]
  },
  {
   "cell_type": "markdown",
   "metadata": {},
   "source": [
    "# Testing"
   ]
  },
  {
   "cell_type": "code",
   "execution_count": 43,
   "metadata": {},
   "outputs": [],
   "source": [
    "import random\n",
    "#bot 0 - human 1\n",
    "test_features1 = []\n",
    "test_aims1 = []\n",
    "#female 0 - male 1\n",
    "test_features2 = []\n",
    "test_aims2 = []\n",
    "random.shuffle(test_tweets)\n",
    "for i in test_tweets:\n",
    "    num_of_words = 0. +len(i[0].split(\" \"))\n",
    "    num_of_characters = 0. + len(i[0])\n",
    "    avg_word_length = avg_length(i[0], num_of_words)\n",
    "    stop_words = stops(i[0])\n",
    "    special_characters =spec(i[0])\n",
    "    refers = refs(i[0])\n",
    "    #numerics = nums(i[0])\n",
    "    #uppers = upp(i[0])\n",
    "    \n",
    "    tfs = tf(i[0])\n",
    "    idfs = idf(i[0])\n",
    "    class_id1 = 0\n",
    "    class_id2 = 0\n",
    "    if i[1] == 'bot':\n",
    "        class_id1 = 0\n",
    "    if i[1] == 'female':\n",
    "        class_id1 = 1\n",
    "        class_id2 = 0\n",
    "    if i[1] == 'male':\n",
    "        class_id1 = 1\n",
    "        class_id2 = 1\n",
    "    test_features1.append([num_of_words,avg_word_length,stop_words,special_characters, refers, tfs*idfs])\n",
    "    test_aims1.append(class_id1)\n",
    "    if i[1] != 'bot':\n",
    "        test_features2.append([num_of_characters,avg_word_length,stop_words,special_characters])\n",
    "        test_aims2.append(class_id2)\n"
   ]
  },
  {
   "cell_type": "code",
   "execution_count": 44,
   "metadata": {},
   "outputs": [],
   "source": [
    "tweetstest = [i[0]  for i in test_tweets if i[1]!=\"bot\"]\n",
    "aimstest = [0 if i[1] ==\"female\" else 1  for i in test_tweets if i[1]!=\"bot\"]\n",
    "cv = CountVectorizer(max_df=0.85,stop_words = stop, max_features = 100 )\n",
    "restest = cv.fit_transform(tweetstest)"
   ]
  },
  {
   "cell_type": "code",
   "execution_count": 45,
   "metadata": {},
   "outputs": [],
   "source": [
    "norm_restest =preprocessing.normalize(restest,norm='l2',axis=1,copy=True)\n",
    "normalized_features1test =preprocessing.normalize(test_features1,norm='l2',axis=1,copy=True)\n",
    "normalized_features2test =preprocessing.normalize(test_features2,norm='l2',axis=1,copy=True)"
   ]
  },
  {
   "cell_type": "code",
   "execution_count": 46,
   "metadata": {},
   "outputs": [],
   "source": [
    "res = []\n",
    "for index, i in enumerate(normalized_features1test):\n",
    "    a = np.array(i)\n",
    "    a =a.reshape(1,-1)\n",
    "\n",
    "    res.append(model1.predict_classes(a))\n"
   ]
  },
  {
   "cell_type": "code",
   "execution_count": 47,
   "metadata": {},
   "outputs": [
    {
     "name": "stdout",
     "output_type": "stream",
     "text": [
      "Accuracy for test set on model1:  0.8050347222222223\n"
     ]
    }
   ],
   "source": [
    "acc = 0.\n",
    "for index, i in enumerate(res):\n",
    "    if (i[0] == 0 and test_aims1[index]==0) or (i[0] == 1 and test_aims1[index]==1):\n",
    "        acc+=1.\n",
    "\n",
    "print(\"Accuracy for test set on model1: \", acc/len(res))"
   ]
  },
  {
   "cell_type": "code",
   "execution_count": 48,
   "metadata": {},
   "outputs": [],
   "source": [
    "res = []\n",
    "for index, i in enumerate(normalized_features2test):\n",
    "    a = np.array(i)\n",
    "    a =a.reshape(1,-1)\n",
    "\n",
    "    res.append(model2.predict_classes(a))\n"
   ]
  },
  {
   "cell_type": "code",
   "execution_count": 49,
   "metadata": {},
   "outputs": [
    {
     "name": "stdout",
     "output_type": "stream",
     "text": [
      "Accuracy for test set on model2:  0.5537602512650497\n"
     ]
    }
   ],
   "source": [
    "acc = 0.\n",
    "for index, i in enumerate(res):\n",
    "    if (i[0] == 0 and test_aims2[index]==0) or (i[0] == 1 and test_aims2[index]==1):\n",
    "        acc+=1.\n",
    "\n",
    "print(\"Accuracy for test set on model2: \", acc/len(res))"
   ]
  },
  {
   "cell_type": "code",
   "execution_count": 50,
   "metadata": {},
   "outputs": [],
   "source": [
    "\n",
    "reshaped_norm_res_test = norm_restest.toarray()\n",
    "reshaped_norm_res_test = reshaped_norm_res_test.reshape(len(reshaped_norm_res_test),1, 100)"
   ]
  },
  {
   "cell_type": "code",
   "execution_count": 51,
   "metadata": {},
   "outputs": [],
   "source": [
    "res = []\n",
    "res.append(model3.predict_classes(reshaped_norm_res_test))"
   ]
  },
  {
   "cell_type": "code",
   "execution_count": 52,
   "metadata": {},
   "outputs": [
    {
     "name": "stdout",
     "output_type": "stream",
     "text": [
      "Accuracy for test set on model3:  0.5553306578258593\n"
     ]
    }
   ],
   "source": [
    "acc = 0.\n",
    "for index, i in enumerate(res[0]):\n",
    "    if (i == 0 and aimstest[index]==0) or (i == 1 and aimstest[index]==1):\n",
    "        acc+=1.\n",
    "\n",
    "print(\"Accuracy for test set on model3: \", acc/len(res[0]))"
   ]
  },
  {
   "cell_type": "code",
   "execution_count": 53,
   "metadata": {},
   "outputs": [],
   "source": [
    "res = []\n",
    "for index, i in enumerate(norm_restest):\n",
    "    res.append(model4.predict_classes(i))"
   ]
  },
  {
   "cell_type": "code",
   "execution_count": 54,
   "metadata": {},
   "outputs": [
    {
     "name": "stdout",
     "output_type": "stream",
     "text": [
      "Accuracy for test set on model4:  0.5499214796719595\n"
     ]
    }
   ],
   "source": [
    "acc = 0.\n",
    "for index, i in enumerate(res):\n",
    "    if (i[0] == 0 and aimstest[index]==0) or (i[0] == 1 and aimstest[index]==1):\n",
    "        acc+=1.\n",
    "\n",
    "print(\"Accuracy for test set on model4: \", acc/len(res))"
   ]
  },
  {
   "cell_type": "code",
   "execution_count": null,
   "metadata": {},
   "outputs": [],
   "source": []
  },
  {
   "cell_type": "code",
   "execution_count": null,
   "metadata": {},
   "outputs": [],
   "source": []
  },
  {
   "cell_type": "code",
   "execution_count": null,
   "metadata": {},
   "outputs": [],
   "source": []
  }
 ],
 "metadata": {
  "kernelspec": {
   "display_name": "Python 3",
   "language": "python",
   "name": "python3"
  },
  "language_info": {
   "codemirror_mode": {
    "name": "ipython",
    "version": 3
   },
   "file_extension": ".py",
   "mimetype": "text/x-python",
   "name": "python",
   "nbconvert_exporter": "python",
   "pygments_lexer": "ipython3",
   "version": "3.7.6"
  }
 },
 "nbformat": 4,
 "nbformat_minor": 2
}
